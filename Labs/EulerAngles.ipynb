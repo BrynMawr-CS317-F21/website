{
 "cells": [
  {
   "cell_type": "markdown",
   "metadata": {},
   "source": [
    "# Euler angle worksheet\n",
    "\n",
    "This is a [jupyter notebook](https://jupyter.org/). Jupyter Notebooks allows you to combine notes, code, and output into a single document. You can even export your document as a presentation or presentation.\n",
    "\n",
    "In this worksheet, we will use the python3 SymPy package to derive expressions for converting between euler angles and matrices.\n",
    "\n",
    "If you would like more information about jupyter notebook features:\n",
    "\n",
    "* [Getting started tutorial](https://realpython.com/jupyter-notebook-introduction/#creating-a-notebook)\n",
    "* [Reference on markdown text](https://help.github.com/articles/markdown-basics/)\n",
    "\n",
    "For this assignment, you do not need to run this notebook. It has been compiled for you and saved as a webpage. However, if you would like to play with it, start by running all the cells (from the menu: goto 'Cell' -> 'Run All'). "
   ]
  },
  {
   "cell_type": "code",
   "execution_count": 1,
   "metadata": {},
   "outputs": [],
   "source": [
    "# python3 \n",
    "from sympy import *\n",
    "init_printing(use_latex='mathjax')\n",
    "import math"
   ]
  },
  {
   "cell_type": "code",
   "execution_count": 2,
   "metadata": {},
   "outputs": [],
   "source": [
    "# Define symbols\n",
    "cx,sx = symbols('cx sx')\n",
    "cy,sy = symbols('cy sy')\n",
    "cz,sz = symbols('cz sz')\n",
    "\n",
    "Rx = Matrix([ \n",
    "        [1, 0, 0], \n",
    "        [0, cx,-sx], \n",
    "        [0, sx, cx]])\n",
    "\n",
    "Ry = Matrix([\n",
    "        [ cy, 0, sy], \n",
    "        [ 0,  1, 0], \n",
    "        [-sy, 0, cy]])\n",
    "\n",
    "Rz = Matrix([ \n",
    "        [cz, -sz, 0], \n",
    "        [sz,  cz, 0], \n",
    "        [0,    0, 1]])"
   ]
  },
  {
   "cell_type": "markdown",
   "metadata": {},
   "source": [
    "# Convert from ZYX euler angles to a matrix\n",
    "\n",
    "We can compute the matrix Rzyx by multiplying matrixes corresponding to each consecutive rotation, e.g. \n",
    "\n",
    "$$\n",
    "R_{zyx}(\\theta_x, \\theta_y, \\theta_z) = R_z(\\theta_z) * R_y(\\theta_y) * R_x(\\theta_x)\n",
    "$$\n",
    "\n",
    "In this file, we will use the [SymPy](https://www.sympy.org/en/index.html) to compute algebraic expressions for euler angle matrices. Using these expressions, we will be able to derive formulas for converting from matrices to euler angles.\n",
    "\n",
    "In the following example, let\n",
    "\n",
    "* cx = $cos(\\theta_x)$\n",
    "* sx = $sin(\\theta_x)$\n",
    "* cy = $cos(\\theta_y)$\n",
    "* sy = $sin(\\theta_y)$\n",
    "* cz = $cos(\\theta_z)$\n",
    "* sz = $sin(\\theta_z)$\n"
   ]
  },
  {
   "cell_type": "code",
   "execution_count": 3,
   "metadata": {},
   "outputs": [
    {
     "name": "stdout",
     "output_type": "stream",
     "text": [
      "⎡cy⋅cz  -cx⋅sz + cz⋅sx⋅sy  cx⋅cz⋅sy + sx⋅sz⎤\n",
      "⎢                                          ⎥\n",
      "⎢cy⋅sz  cx⋅cz + sx⋅sy⋅sz   cx⋅sy⋅sz - cz⋅sx⎥\n",
      "⎢                                          ⎥\n",
      "⎣ -sy         cy⋅sx             cx⋅cy      ⎦\n"
     ]
    }
   ],
   "source": [
    "Rzyx = Rz * Ry * Rx\n",
    "pprint(Rzyx)"
   ]
  },
  {
   "cell_type": "markdown",
   "metadata": {},
   "source": [
    "Now that we have a matrix expression for the ZYX euler angles, we have formulas which describe how matrices and euler angles relate to each. Specifically, suppose we have a 3x3 rotation matrix R with the following elements\n",
    "\n",
    "$$\n",
    "R = \n",
    "\\begin{bmatrix}\n",
    "r_{00} & r_{01} & r_{02} \\\\\n",
    "r_{10} & r_{11} & r_{12} \\\\\n",
    "r_{20} & r_{21} & r_{22} \\\\\n",
    "\\end{bmatrix}\n",
    "$$\n",
    "\n",
    "where each $r_{ij}$ represents a scalar value in $\\mathbb{R}$. Usually math texts will use indexing at 1, but here let's use 0-based indexing so that it will be easier to use implement these formulas later.\n",
    "\n",
    "Now suppose we wish to extract the euler angles from this matrix. We can get the Y rotation back from the term $r_{20}$.\n",
    "\n",
    "$$\n",
    "r_{20} = -\\sin(\\theta_y) \\\\\n",
    "=> \\theta_y = \\sin(-r_{20})\n",
    "$$\n",
    "\n",
    "What about the rotations around X and Z? We can obtain these similarly using the terms from the first column and last row. A robust method involves using the fact that \n",
    "\n",
    "$$\n",
    "\\tan(\\theta) = \\frac{\\sin(\\theta)}{\\cos(\\theta)}\n",
    "$$\n",
    "\n",
    "to form the following expression for obtaining $\\theta_x$\n",
    "\n",
    "$$\n",
    "\\frac{r_{21}}{r_{22}} = \\frac{\\sin(\\theta_x)}{\\cos(\\theta_x)} = \\tan(\\theta_x) \\\\\n",
    "=> \\theta_x = \\text{atan2}(r_{21}, r_{22})\n",
    "$$\n",
    "\n",
    "The expression for $\\theta_z$ can be obtained similarly\n",
    "\n",
    "$$\n",
    "\\frac{r_{10}}{r_{00}} = \\frac{\\sin(\\theta_z)}{\\cos(\\theta_z)} = \\tan(\\theta_z) \\\\\n",
    "=> \\theta_z = \\text{atan2}(r_{10}, r_{00})\n",
    "$$\n",
    "\n",
    "Using atan2 makes it easier to handle the cases when $\\theta$ is near 0, 90, or 180 degrees, which makes sine and cosine close to zero and 1. Be careful when using acos and asin because values even *slightly* out of the range [-1,1] can lead to NaNs. The computer will not tolerate nansense!"
   ]
  },
  {
   "cell_type": "markdown",
   "metadata": {},
   "source": [
    "## What happens to Rzyx when y is +/- 90 degrees?\n",
    "\n",
    "When the middle euler angle is 90 degrees, we need to look to the non-zero terms to values for the first and last angles. For example, for ZYX euler angles, we need to handle the case when Y is either positive or negative 90 degrees. "
   ]
  },
  {
   "cell_type": "code",
   "execution_count": 4,
   "metadata": {},
   "outputs": [
    {
     "name": "stdout",
     "output_type": "stream",
     "text": [
      "⎡0   -cx⋅sz + cz⋅sx  cx⋅cz + sx⋅sz⎤\n",
      "⎢                                 ⎥\n",
      "⎢0   cx⋅cz + sx⋅sz   cx⋅sz - cz⋅sx⎥\n",
      "⎢                                 ⎥\n",
      "⎣-1        0               0      ⎦\n"
     ]
    }
   ],
   "source": [
    "# Compute Rzyx when y is +90\n",
    "Ry90 = Matrix([\n",
    "    [ 0, 0, 1], \n",
    "    [ 0, 1, 0], \n",
    "    [-1, 0, 0]])\n",
    "\n",
    "Rzyx = Rz * Ry90 * Rx\n",
    "pprint(Rzyx)"
   ]
  },
  {
   "cell_type": "markdown",
   "metadata": {},
   "source": [
    "So now we have the above expression. We know that the Y rotation is 90 but what about the X and Z rotations? We need to look at the upper part of the matrix to figure these out.\n",
    "\n",
    "Let's apply the sine and cosine [addition rules](https://en.wikipedia.org/wiki/List_of_trigonometric_identities)\n",
    "\n",
    "$$\n",
    "\\sin(z + x) = \\sin(z) \\cos(x) + \\cos(z) \\sin(x) \\\\\n",
    "\\sin(z - x) = \\sin(z) \\cos(x) - \\cos(z) \\sin(x) \\\\\n",
    "\\cos(z + x) = \\cos(z) \\cos(x) - \\sin(z) \\sin(x) \\\\\n",
    "\\cos(z - x) = \\cos(z) \\cos(x) + \\sin(z) \\sin(x) \\\\\n",
    "$$\n",
    "\n",
    "Another useful property of sine and cosine is the following\n",
    "\n",
    "$$\n",
    "\\sin(-\\theta) = -\\sin(\\theta) \\\\\n",
    "\\cos(-\\theta) = \\cos(\\theta)\n",
    "$$\n",
    "\n",
    "Let's try to simplify the above matrix using these rules. For example, the term in position $r_{12}$ has two terms containing both sine and cosine, so it corresponds to one of the sine rules. It also has a negative, so its the difference between two angles X and Z.\n",
    "\n",
    "$$\n",
    "\\begin{bmatrix}\n",
    "0 & s(x-z) & c(x-z) \\\\\n",
    "0 & c(x-z) & s(z-x) \\\\\n",
    "-1 & 0 & 0\n",
    "\\end{bmatrix}\n",
    "$$\n",
    "which can be rewritten so every term has angle $x-z$\n",
    "$$\n",
    "\\begin{bmatrix}\n",
    "0 & s(x-z) & c(x-z) \\\\\n",
    "0 & c(x-z) & -s(x-z) \\\\\n",
    "-1 & 0 & 0\n",
    "\\end{bmatrix}\n",
    "$$\n",
    "\n",
    "Therefore, we can use atan2($r_{12}$, $r_{13}$) to get the $\\theta$ angle corresponding to the difference between $x-z$. Many values for X and Z could combine to be $\\theta$. Let's choose one of X or Z to be zero and then the other can be $\\theta$.  "
   ]
  },
  {
   "cell_type": "code",
   "execution_count": 5,
   "metadata": {},
   "outputs": [
    {
     "name": "stdout",
     "output_type": "stream",
     "text": [
      "⎡0  -cx⋅sz - cz⋅sx  -cx⋅cz + sx⋅sz⎤\n",
      "⎢                                 ⎥\n",
      "⎢0  cx⋅cz - sx⋅sz   -cx⋅sz - cz⋅sx⎥\n",
      "⎢                                 ⎥\n",
      "⎣1        0               0       ⎦\n"
     ]
    }
   ],
   "source": [
    "# Compute Rzyx when y is -90\n",
    "Ry90_Minus = Ry90.T\n",
    "\n",
    "Rzyx = Rz * Ry90_Minus * Rx\n",
    "pprint(Rzyx)"
   ]
  },
  {
   "cell_type": "markdown",
   "metadata": {},
   "source": [
    "$$\n",
    "\\begin{bmatrix}\n",
    "0 & -s(x+z) & c(x+z) \\\\\n",
    "0 &  c(z+x) & -s(x+z) \\\\\n",
    "1 & 0 & 0\n",
    "\\end{bmatrix}\n",
    "$$\n"
   ]
  },
  {
   "cell_type": "markdown",
   "metadata": {},
   "source": [
    "# Convert from all euler angles to a matrix\n",
    "\n",
    "The other five euler angle combinations can be derived similarly. "
   ]
  },
  {
   "cell_type": "markdown",
   "metadata": {},
   "source": [
    "# XYZ"
   ]
  },
  {
   "cell_type": "code",
   "execution_count": 6,
   "metadata": {},
   "outputs": [
    {
     "name": "stdout",
     "output_type": "stream",
     "text": [
      "Rxyz\n",
      "⎡      cy⋅cz             -cy⋅sz         sy  ⎤\n",
      "⎢                                           ⎥\n",
      "⎢cx⋅sz + cz⋅sx⋅sy   cx⋅cz - sx⋅sy⋅sz  -cy⋅sx⎥\n",
      "⎢                                           ⎥\n",
      "⎣-cx⋅cz⋅sy + sx⋅sz  cx⋅sy⋅sz + cz⋅sx  cx⋅cy ⎦\n",
      "\n",
      "\n",
      "Y = 90\n",
      "⎡      0               0        1⎤\n",
      "⎢                                ⎥\n",
      "⎢cx⋅sz + cz⋅sx   cx⋅cz - sx⋅sz  0⎥\n",
      "⎢                                ⎥\n",
      "⎣-cx⋅cz + sx⋅sz  cx⋅sz + cz⋅sx  0⎦\n",
      "\n",
      "\n",
      "Y = -90\n",
      "⎡      0              0         -1⎤\n",
      "⎢                                 ⎥\n",
      "⎢cx⋅sz - cz⋅sx  cx⋅cz + sx⋅sz   0 ⎥\n",
      "⎢                                 ⎥\n",
      "⎣cx⋅cz + sx⋅sz  -cx⋅sz + cz⋅sx  0 ⎦\n",
      "\n",
      "\n"
     ]
    }
   ],
   "source": [
    "print(\"Rxyz\")\n",
    "pprint(Rx * Ry * Rz)\n",
    "print()\n",
    "print()\n",
    "\n",
    "print(\"Y = 90\")\n",
    "pprint(Rx * Ry90 * Rz)\n",
    "print()\n",
    "print()\n",
    "\n",
    "print(\"Y = -90\")\n",
    "pprint(Rx * Ry90_Minus * Rz)\n",
    "print()\n",
    "print()\n"
   ]
  },
  {
   "cell_type": "markdown",
   "metadata": {},
   "source": [
    "Y = 90\n",
    "$$\n",
    "\\begin{bmatrix}\n",
    "0 & 0 & 1 \\\\\n",
    "s(x+z) & c(x+z) & 0\\\\\n",
    "-c(x+z) & s(x+z) & 0 \\\\\n",
    "\\end{bmatrix}\n",
    "$$\n",
    "\n",
    "Y = -90\n",
    "$$\n",
    "\\begin{bmatrix}\n",
    "0 & 0 & -1 \\\\\n",
    "s(z-x) & c(z-x) & 0 \\\\\n",
    "c(z-x) & -s(z-x) & 0 \\\\\n",
    "\\end{bmatrix}\n",
    "$$\n"
   ]
  },
  {
   "cell_type": "markdown",
   "metadata": {},
   "source": [
    "# YXZ"
   ]
  },
  {
   "cell_type": "code",
   "execution_count": 7,
   "metadata": {},
   "outputs": [
    {
     "name": "stdout",
     "output_type": "stream",
     "text": [
      "Ryxz\n",
      "⎡cy⋅cz + sx⋅sy⋅sz  -cy⋅sz + cz⋅sx⋅sy  cx⋅sy⎤\n",
      "⎢                                          ⎥\n",
      "⎢     cx⋅sz              cx⋅cz         -sx ⎥\n",
      "⎢                                          ⎥\n",
      "⎣cy⋅sx⋅sz - cz⋅sy  cy⋅cz⋅sx + sy⋅sz   cx⋅cy⎦\n",
      "\n",
      "\n",
      "+90\n",
      "⎡cy⋅cz + sy⋅sz  -cy⋅sz + cz⋅sy  0 ⎤\n",
      "⎢                                 ⎥\n",
      "⎢      0              0         -1⎥\n",
      "⎢                                 ⎥\n",
      "⎣cy⋅sz - cz⋅sy  cy⋅cz + sy⋅sz   0 ⎦\n",
      "\n",
      "\n",
      "-90\n",
      "⎡cy⋅cz - sy⋅sz   -cy⋅sz - cz⋅sy  0⎤\n",
      "⎢                                 ⎥\n",
      "⎢      0               0         1⎥\n",
      "⎢                                 ⎥\n",
      "⎣-cy⋅sz - cz⋅sy  -cy⋅cz + sy⋅sz  0⎦\n",
      "\n",
      "\n"
     ]
    }
   ],
   "source": [
    "print(\"Ryxz\")\n",
    "pprint(Ry * Rx * Rz)\n",
    "print()\n",
    "print()\n",
    "\n",
    "Rx90 = Matrix([ \n",
    "        [1, 0, 0], \n",
    "        [0, 0,-1], \n",
    "        [0, 1, 0]])\n",
    "print(\"+90\")\n",
    "pprint(Ry * Rx90 * Rz)\n",
    "print()\n",
    "print()\n",
    "\n",
    "Rx90_Minus = Rx90.T\n",
    "print(\"-90\")\n",
    "pprint(Ry * Rx90.T * Rz)\n",
    "print()\n",
    "print()\n"
   ]
  },
  {
   "cell_type": "markdown",
   "metadata": {},
   "source": [
    "X = 90\n",
    "$$\n",
    "\\begin{bmatrix}\n",
    "c(y-z) & s(y-z) & 0\\\\\n",
    "0 & 0 & -1 \\\\\n",
    "-s(y-z) & c(y-z) & 0 \\\\\n",
    "\\end{bmatrix}\n",
    "$$\n",
    "\n",
    "X = -90\n",
    "$$\n",
    "\\begin{bmatrix}\n",
    "c(y+z) & -s(y+z) & 0 \\\\\n",
    "0 & 0 & 1 \\\\\n",
    "-s(y+z) & -c(y+z) & 0 \\\\\n",
    "\\end{bmatrix}\n",
    "$$\n"
   ]
  },
  {
   "cell_type": "markdown",
   "metadata": {},
   "source": [
    "# ZXY"
   ]
  },
  {
   "cell_type": "code",
   "execution_count": 8,
   "metadata": {},
   "outputs": [
    {
     "name": "stdout",
     "output_type": "stream",
     "text": [
      "Rzxy\n",
      "⎡cy⋅cz - sx⋅sy⋅sz  -cx⋅sz  cy⋅sx⋅sz + cz⋅sy ⎤\n",
      "⎢                                           ⎥\n",
      "⎢cy⋅sz + cz⋅sx⋅sy  cx⋅cz   -cy⋅cz⋅sx + sy⋅sz⎥\n",
      "⎢                                           ⎥\n",
      "⎣     -cx⋅sy         sx          cx⋅cy      ⎦\n",
      "\n",
      "\n",
      "+90\n",
      "⎡cy⋅cz - sy⋅sz  0  cy⋅sz + cz⋅sy ⎤\n",
      "⎢                                ⎥\n",
      "⎢cy⋅sz + cz⋅sy  0  -cy⋅cz + sy⋅sz⎥\n",
      "⎢                                ⎥\n",
      "⎣      0        1        0       ⎦\n",
      "\n",
      "\n",
      "-90\n",
      "⎡cy⋅cz + sy⋅sz  0   -cy⋅sz + cz⋅sy⎤\n",
      "⎢                                 ⎥\n",
      "⎢cy⋅sz - cz⋅sy  0   cy⋅cz + sy⋅sz ⎥\n",
      "⎢                                 ⎥\n",
      "⎣      0        -1        0       ⎦\n",
      "\n",
      "\n"
     ]
    }
   ],
   "source": [
    "print(\"Rzxy\")\n",
    "pprint(Rz * Rx * Ry)\n",
    "print()\n",
    "print()\n",
    "\n",
    "print(\"+90\")\n",
    "pprint(Rz * Rx90 * Ry)\n",
    "print()\n",
    "print()\n",
    "\n",
    "print(\"-90\")\n",
    "pprint(Rz * Rx90.T * Ry)\n",
    "print()\n",
    "print()"
   ]
  },
  {
   "cell_type": "markdown",
   "metadata": {},
   "source": [
    "X = 90\n",
    "$$\n",
    "\\begin{bmatrix}\n",
    "c(y+z) & 0 & s(y+z) \\\\\n",
    "s(y+z) & 0 & -c(y+z) \\\\\n",
    "0 & 1 & 0 \\\\\n",
    "\\end{bmatrix}\n",
    "$$\n",
    "\n",
    "X = -90\n",
    "$$\n",
    "\\begin{bmatrix}\n",
    "c(y-z) & 0 & s(y-z) \\\\\n",
    "-s(y-z) & 0 & c(y-z) \\\\\n",
    "0 & -1 & 0 \\\\\n",
    "\\end{bmatrix}\n",
    "$$\n"
   ]
  },
  {
   "cell_type": "markdown",
   "metadata": {},
   "source": [
    "# XZY"
   ]
  },
  {
   "cell_type": "code",
   "execution_count": 9,
   "metadata": {},
   "outputs": [
    {
     "name": "stdout",
     "output_type": "stream",
     "text": [
      "Rxzy\n",
      "⎡      cy⋅cz         -sz        cz⋅sy      ⎤\n",
      "⎢                                          ⎥\n",
      "⎢cx⋅cy⋅sz + sx⋅sy   cx⋅cz  cx⋅sy⋅sz - cy⋅sx⎥\n",
      "⎢                                          ⎥\n",
      "⎣-cx⋅sy + cy⋅sx⋅sz  cz⋅sx  cx⋅cy + sx⋅sy⋅sz⎦\n",
      "\n",
      "\n",
      "+90\n",
      "⎡      0         -1        0      ⎤\n",
      "⎢                                 ⎥\n",
      "⎢cx⋅cy + sx⋅sy   0   cx⋅sy - cy⋅sx⎥\n",
      "⎢                                 ⎥\n",
      "⎣-cx⋅sy + cy⋅sx  0   cx⋅cy + sx⋅sy⎦\n",
      "\n",
      "\n",
      "-90\n",
      "⎡      0         1        0       ⎤\n",
      "⎢                                 ⎥\n",
      "⎢-cx⋅cy + sx⋅sy  0  -cx⋅sy - cy⋅sx⎥\n",
      "⎢                                 ⎥\n",
      "⎣-cx⋅sy - cy⋅sx  0  cx⋅cy - sx⋅sy ⎦\n",
      "\n",
      "\n"
     ]
    }
   ],
   "source": [
    "print(\"Rxzy\")\n",
    "pprint(Rx * Rz * Ry)\n",
    "print()\n",
    "print()\n",
    "\n",
    "Rz90 = Matrix([ \n",
    "        [0, -1, 0], \n",
    "        [1,  0, 0], \n",
    "        [0,  0, 1]])\n",
    "\n",
    "print(\"+90\")\n",
    "pprint(Rx * Rz90 * Ry)\n",
    "print()\n",
    "print()\n",
    "\n",
    "print(\"-90\")\n",
    "pprint(Rx * Rz90.T * Ry)\n",
    "print()\n",
    "print()\n",
    "\n"
   ]
  },
  {
   "cell_type": "markdown",
   "metadata": {},
   "source": [
    "Z = 90\n",
    "$$\n",
    "\\begin{bmatrix}\n",
    "0 & -1 & 0 \\\\\n",
    "c(x-y) & 0 & -s(x-y) \\\\\n",
    "s(x-y) & 0 & c(x-y) \\\\\n",
    "\\end{bmatrix}\n",
    "$$\n",
    "\n",
    "Z = -90\n",
    "$$\n",
    "\\begin{bmatrix}\n",
    "0 & 1 & 0 \\\\\n",
    "-c(x+y) & 0 & -s(x+y) \\\\\n",
    "-s(x+y) & 0 & c(x+y) \\\\\n",
    "\\end{bmatrix}\n",
    "$$"
   ]
  },
  {
   "cell_type": "markdown",
   "metadata": {},
   "source": [
    "# YZX"
   ]
  },
  {
   "cell_type": "code",
   "execution_count": 10,
   "metadata": {},
   "outputs": [
    {
     "name": "stdout",
     "output_type": "stream",
     "text": [
      "Ryzx\n",
      "⎡cy⋅cz   -cx⋅cy⋅sz + sx⋅sy  cx⋅sy + cy⋅sx⋅sz⎤\n",
      "⎢                                           ⎥\n",
      "⎢  sz          cx⋅cz             -cz⋅sx     ⎥\n",
      "⎢                                           ⎥\n",
      "⎣-cz⋅sy  cx⋅sy⋅sz + cy⋅sx   cx⋅cy - sx⋅sy⋅sz⎦\n",
      "\n",
      "\n",
      "+90\n",
      "⎡0  -cx⋅cy + sx⋅sy  cx⋅sy + cy⋅sx⎤\n",
      "⎢                                ⎥\n",
      "⎢1        0               0      ⎥\n",
      "⎢                                ⎥\n",
      "⎣0  cx⋅sy + cy⋅sx   cx⋅cy - sx⋅sy⎦\n",
      "\n",
      "\n",
      "-90\n",
      "⎡0   cx⋅cy + sx⋅sy   cx⋅sy - cy⋅sx⎤\n",
      "⎢                                 ⎥\n",
      "⎢-1        0               0      ⎥\n",
      "⎢                                 ⎥\n",
      "⎣0   -cx⋅sy + cy⋅sx  cx⋅cy + sx⋅sy⎦\n",
      "\n",
      "\n"
     ]
    }
   ],
   "source": [
    "print(\"Ryzx\")\n",
    "pprint(Ry * Rz * Rx)\n",
    "print()\n",
    "print()\n",
    "\n",
    "print(\"+90\")\n",
    "pprint(Ry * Rz90 * Rx)\n",
    "print()\n",
    "print()\n",
    "\n",
    "print(\"-90\")\n",
    "pprint(Ry * Rz90.T * Rx)\n",
    "print()\n",
    "print()\n"
   ]
  },
  {
   "cell_type": "markdown",
   "metadata": {},
   "source": [
    "Z = 90\n",
    "$$\n",
    "\\begin{bmatrix}\n",
    "0 & c(x-y) & -s(x-y) \\\\\n",
    "1 & 0 & 0 \\\\\n",
    "0 & s(x-y) & c(x-y) \\\\\n",
    "\\end{bmatrix}\n",
    "$$\n",
    "\n",
    "Z = -90\n",
    "$$\n",
    "\\begin{bmatrix}\n",
    "0 & c(y-x) & s(y-x) \\\\\n",
    "-1 & 0 & 0 \\\\\n",
    "0 & -s(y-x) & c(y-x) \\\\\n",
    "\\end{bmatrix}\n",
    "$$"
   ]
  }
 ],
 "metadata": {
  "kernelspec": {
   "display_name": "Python 3",
   "language": "python",
   "name": "python3"
  },
  "language_info": {
   "codemirror_mode": {
    "name": "ipython",
    "version": 3
   },
   "file_extension": ".py",
   "mimetype": "text/x-python",
   "name": "python",
   "nbconvert_exporter": "python",
   "pygments_lexer": "ipython3",
   "version": "3.6.8"
  }
 },
 "nbformat": 4,
 "nbformat_minor": 2
}
